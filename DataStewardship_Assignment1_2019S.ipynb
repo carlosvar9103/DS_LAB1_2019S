{
 "cells": [
  {
   "cell_type": "code",
   "execution_count": 260,
   "metadata": {},
   "outputs": [],
   "source": [
    "import csv\n",
    "import numpy as np\n",
    "import pandas as pd\n",
    "import plotly\n",
    "import plotly.plotly as py\n",
    "import plotly.graph_objs as go\n",
    "import plotly.tools as tls\n",
    "import matplotlib.pyplot as plt\n",
    "import matplotlib.cm as cm # To make pretty graphs\n",
    "\n",
    "plotly.tools.set_credentials_file(username='carlosvar9103', api_key='klIO8nYKdC0Yfj54Emiw')\n",
    "\n",
    "#import seaborn as sns"
   ]
  },
  {
   "cell_type": "markdown",
   "metadata": {},
   "source": [
    "Dataset about the Population according to foreign origin, age and sex since 2008 in Vienna"
   ]
  },
  {
   "cell_type": "code",
   "execution_count": 261,
   "metadata": {},
   "outputs": [
    {
     "data": {
      "text/html": [
       "<div>\n",
       "<style scoped>\n",
       "    .dataframe tbody tr th:only-of-type {\n",
       "        vertical-align: middle;\n",
       "    }\n",
       "\n",
       "    .dataframe tbody tr th {\n",
       "        vertical-align: top;\n",
       "    }\n",
       "\n",
       "    .dataframe thead th {\n",
       "        text-align: right;\n",
       "    }\n",
       "</style>\n",
       "<table border=\"1\" class=\"dataframe\">\n",
       "  <thead>\n",
       "    <tr style=\"text-align: right;\">\n",
       "      <th></th>\n",
       "      <th>SEX</th>\n",
       "      <th>AGE</th>\n",
       "      <th>POP_TOTAL</th>\n",
       "      <th>POP_SCG</th>\n",
       "      <th>POP_TUR</th>\n",
       "      <th>POP_DEU</th>\n",
       "      <th>POP_POL</th>\n",
       "      <th>POP_BIH</th>\n",
       "      <th>POP_ROU</th>\n",
       "      <th>POP_HUN</th>\n",
       "      <th>POP_SYR</th>\n",
       "      <th>POP_RUS</th>\n",
       "      <th>POP_OTHER</th>\n",
       "      <th>POP_AUT</th>\n",
       "      <th>REF_DATE</th>\n",
       "    </tr>\n",
       "  </thead>\n",
       "  <tbody>\n",
       "    <tr>\n",
       "      <th>0</th>\n",
       "      <td>2</td>\n",
       "      <td>0</td>\n",
       "      <td>7962</td>\n",
       "      <td>357</td>\n",
       "      <td>240</td>\n",
       "      <td>148</td>\n",
       "      <td>158</td>\n",
       "      <td>71</td>\n",
       "      <td>74</td>\n",
       "      <td>33</td>\n",
       "      <td>1</td>\n",
       "      <td>35</td>\n",
       "      <td>709</td>\n",
       "      <td>6136</td>\n",
       "      <td>2008</td>\n",
       "    </tr>\n",
       "    <tr>\n",
       "      <th>1</th>\n",
       "      <td>2</td>\n",
       "      <td>1</td>\n",
       "      <td>8398</td>\n",
       "      <td>376</td>\n",
       "      <td>234</td>\n",
       "      <td>145</td>\n",
       "      <td>162</td>\n",
       "      <td>65</td>\n",
       "      <td>55</td>\n",
       "      <td>21</td>\n",
       "      <td>5</td>\n",
       "      <td>60</td>\n",
       "      <td>815</td>\n",
       "      <td>6460</td>\n",
       "      <td>2008</td>\n",
       "    </tr>\n",
       "    <tr>\n",
       "      <th>2</th>\n",
       "      <td>2</td>\n",
       "      <td>2</td>\n",
       "      <td>8078</td>\n",
       "      <td>323</td>\n",
       "      <td>234</td>\n",
       "      <td>139</td>\n",
       "      <td>136</td>\n",
       "      <td>80</td>\n",
       "      <td>52</td>\n",
       "      <td>23</td>\n",
       "      <td>1</td>\n",
       "      <td>54</td>\n",
       "      <td>751</td>\n",
       "      <td>6285</td>\n",
       "      <td>2008</td>\n",
       "    </tr>\n",
       "    <tr>\n",
       "      <th>3</th>\n",
       "      <td>2</td>\n",
       "      <td>3</td>\n",
       "      <td>7885</td>\n",
       "      <td>301</td>\n",
       "      <td>230</td>\n",
       "      <td>136</td>\n",
       "      <td>123</td>\n",
       "      <td>70</td>\n",
       "      <td>50</td>\n",
       "      <td>28</td>\n",
       "      <td>6</td>\n",
       "      <td>78</td>\n",
       "      <td>684</td>\n",
       "      <td>6179</td>\n",
       "      <td>2008</td>\n",
       "    </tr>\n",
       "    <tr>\n",
       "      <th>4</th>\n",
       "      <td>2</td>\n",
       "      <td>4</td>\n",
       "      <td>7766</td>\n",
       "      <td>294</td>\n",
       "      <td>242</td>\n",
       "      <td>109</td>\n",
       "      <td>104</td>\n",
       "      <td>74</td>\n",
       "      <td>52</td>\n",
       "      <td>15</td>\n",
       "      <td>1</td>\n",
       "      <td>64</td>\n",
       "      <td>727</td>\n",
       "      <td>6084</td>\n",
       "      <td>2008</td>\n",
       "    </tr>\n",
       "  </tbody>\n",
       "</table>\n",
       "</div>"
      ],
      "text/plain": [
       "   SEX  AGE  POP_TOTAL  POP_SCG  POP_TUR  POP_DEU  POP_POL  POP_BIH  POP_ROU  \\\n",
       "0    2    0       7962      357      240      148      158       71       74   \n",
       "1    2    1       8398      376      234      145      162       65       55   \n",
       "2    2    2       8078      323      234      139      136       80       52   \n",
       "3    2    3       7885      301      230      136      123       70       50   \n",
       "4    2    4       7766      294      242      109      104       74       52   \n",
       "\n",
       "   POP_HUN  POP_SYR  POP_RUS  POP_OTHER  POP_AUT  REF_DATE  \n",
       "0       33        1       35        709     6136      2008  \n",
       "1       21        5       60        815     6460      2008  \n",
       "2       23        1       54        751     6285      2008  \n",
       "3       28        6       78        684     6179      2008  \n",
       "4       15        1       64        727     6084      2008  "
      ]
     },
     "metadata": {},
     "output_type": "display_data"
    }
   ],
   "source": [
    "wien_pop_raw = pd.read_csv(\"DATA_DS_EXE1/vie_105.csv\", sep=';', header=1)\n",
    "colms=[0,1,2,3,4] # colums to drop\n",
    "wien_pop_raw.drop(wien_pop_raw.columns[colms],axis=1,inplace=True) \n",
    "wien_pop_raw['REF_DATE']=wien_pop_raw['REF_DATE'].apply(lambda x: int(str(x)[:4])) # edit the year\n",
    "display(wien_pop_raw.head())"
   ]
  },
  {
   "cell_type": "code",
   "execution_count": 262,
   "metadata": {},
   "outputs": [],
   "source": [
    "wien_pop = wien_pop_raw.copy()\n",
    "#traceTotal = dict()\n",
    "\n",
    "data_pop_wien= { 'sex':wien_pop['SEX'],\n",
    "                'age':wien_pop['AGE'],\n",
    "                'total_pop':wien_pop['POP_TOTAL'],\n",
    "                'pop_scg':wien_pop['POP_SCG'],\n",
    "                'pop_tur':wien_pop['POP_TUR'],\n",
    "                'pop_deu':wien_pop['POP_DEU'],\n",
    "                'pop_pol':wien_pop['POP_POL'],\n",
    "                'pop_bih':wien_pop['POP_BIH'],\n",
    "                'pop_rou':wien_pop['POP_ROU'],\n",
    "                'pop_hun':wien_pop['POP_HUN'],\n",
    "                'pop_syr':wien_pop['POP_SYR'],\n",
    "                'pop_rus':wien_pop['POP_RUS'],\n",
    "                'pop_other':wien_pop['POP_OTHER'],\n",
    "                'pop_aut':wien_pop['POP_AUT'],\n",
    "                'year':wien_pop['REF_DATE']\n",
    "                \n",
    "}\n",
    "\n",
    "df_wien0=pd.DataFrame(data_pop_wien)\n",
    "df_wien=df_wien0.copy()"
   ]
  },
  {
   "cell_type": "markdown",
   "metadata": {},
   "source": [
    "Population in Wien by Country of Origin from 2008 to 2018"
   ]
  },
  {
   "cell_type": "code",
   "execution_count": 263,
   "metadata": {
    "scrolled": true
   },
   "outputs": [
    {
     "data": {
      "text/html": [
       "<iframe id=\"igraph\" scrolling=\"no\" style=\"border:none;\" seamless=\"seamless\" src=\"https://plot.ly/~carlosvar9103/34.embed\" height=\"525px\" width=\"100%\"></iframe>"
      ],
      "text/plain": [
       "<plotly.tools.PlotlyDisplay object>"
      ]
     },
     "execution_count": 263,
     "metadata": {},
     "output_type": "execute_result"
    }
   ],
   "source": [
    "data = []\n",
    "\n",
    "\n",
    "#df_wien_year = df_wien[df_wien.year == 2012]\n",
    "years=df_wien.year.unique()\n",
    "\n",
    "for year in years:\n",
    "    df_wien1=df_wien.copy()\n",
    "    df_wien_year = df_wien1[df_wien1.year == year]\n",
    "    df_wien_year=df_wien_year.drop(['sex','age','year'],axis=1)\n",
    "    total=df_wien_year.agg(['sum'])\n",
    "\n",
    "    trace = go.Bar(\n",
    "        x=total.columns,\n",
    "        y=[total.total_pop, total.pop_scg, total.pop_tur, total.pop_deu, total.pop_pol, total.pop_bih, total.pop_rou, total.pop_hun, total.pop_syr, total.pop_rus, total.pop_other, total.pop_aut],\n",
    "        name=str(year)\n",
    "    )\n",
    "    data.append(trace)\n",
    "\n",
    "layout = go.Layout(\n",
    "    title='Total Population by Country of Origin in Wien by year',\n",
    "    xaxis=dict(\n",
    "        title='Country',\n",
    "        #titlefont=dict(\n",
    "            #family='Courier New, monospace',\n",
    "            #size=18,\n",
    "            #color='#7f7f7f'\n",
    "        #)\n",
    "    ),\n",
    "    yaxis=dict(\n",
    "        title='Population',\n",
    "        #titlefont=dict(\n",
    "            #family='Courier New, monospace',\n",
    "            #size=18,\n",
    "            #color='#7f7f7f'\n",
    "        #)\n",
    "    )\n",
    ")\n",
    "\n",
    "fig = go.Figure(data=data, layout=layout)\n",
    "py.iplot(fig, filename='bar_population_2012')\n",
    "\n",
    "#print(total_2012)"
   ]
  },
  {
   "cell_type": "markdown",
   "metadata": {},
   "source": [
    "#Female and Male Analysis in 2012"
   ]
  },
  {
   "cell_type": "code",
   "execution_count": 264,
   "metadata": {},
   "outputs": [
    {
     "data": {
      "text/html": [
       "<iframe id=\"igraph\" scrolling=\"no\" style=\"border:none;\" seamless=\"seamless\" src=\"https://plot.ly/~carlosvar9103/32.embed\" height=\"525px\" width=\"100%\"></iframe>"
      ],
      "text/plain": [
       "<plotly.tools.PlotlyDisplay object>"
      ]
     },
     "execution_count": 264,
     "metadata": {},
     "output_type": "execute_result"
    }
   ],
   "source": [
    "df_wien = df_wien[df_wien.year == 2012] #take the year 2012\n",
    "wien_pop_f=df_wien[df_wien.sex==2]\n",
    "wien_pop_m=df_wien[df_wien.sex==1]\n",
    "\n",
    "\n",
    "traceF=go.Bar(\n",
    "    x=wien_pop_f.age, \n",
    "    y=wien_pop_f.total_pop,\n",
    "    name='Female'\n",
    ")\n",
    "\n",
    "traceM=go.Bar(\n",
    "    x=wien_pop_m.age, \n",
    "    y=wien_pop_m.total_pop,\n",
    "    name='Male'\n",
    ")\n",
    "\n",
    "layout = go.Layout(\n",
    "    title='Total Population Female vs. Male in Wien in 2012',\n",
    "    xaxis=dict(\n",
    "        title='Age',\n",
    "        #titlefont=dict(\n",
    "            #family='Courier New, monospace',\n",
    "            #size=18,\n",
    "            #color='#7f7f7f'\n",
    "        #)\n",
    "    ),\n",
    "    yaxis=dict(\n",
    "        title='Population',\n",
    "        #titlefont=dict(\n",
    "            #family='Courier New, monospace',\n",
    "            #size=18,\n",
    "            #color='#7f7f7f'\n",
    "        #)\n",
    "    )\n",
    ")\n",
    "\n",
    "\n",
    "data=[traceF,traceM]\n",
    "fig = go.Figure(data=data, layout=layout)\n",
    "#plot_url=py.plot(fig,filename)\n",
    "py.iplot(fig, filename='bar_wien_pop_fvsm')"
   ]
  },
  {
   "cell_type": "code",
   "execution_count": 265,
   "metadata": {},
   "outputs": [],
   "source": [
    "def aggregateAgePopulation(wien_pop):\n",
    "    samples=[]\n",
    "    for i in range(len(wien_pop)):\n",
    "        for s in range(wien_pop.total_pop.iloc[i]):\n",
    "            samples.append(wien_pop.age.iloc[i])\n",
    "    #display (samples)\n",
    "    return samples"
   ]
  },
  {
   "cell_type": "code",
   "execution_count": 266,
   "metadata": {},
   "outputs": [],
   "source": [
    "def totalPopulation(wien_pop):\n",
    "    total\n",
    "    for i in range(len(wien_pop)):\n",
    "        for s in range(wien_pop.total_pop.iloc[i]):\n",
    "            total += (wien_pop.iloc[i])\n",
    "    return total"
   ]
  },
  {
   "cell_type": "code",
   "execution_count": 267,
   "metadata": {},
   "outputs": [
    {
     "name": "stderr",
     "output_type": "stream",
     "text": [
      "C:\\Users\\Carlos\\Anaconda3\\lib\\site-packages\\plotly\\plotly\\plotly.py:248: UserWarning:\n",
      "\n",
      "Woah there! Look at all those points! Due to browser limitations, the Plotly SVG drawing functions have a hard time graphing more than 500k data points for line charts, or 40k points for other types of charts. Here are some suggestions:\n",
      "(1) Use the `plotly.graph_objs.Scattergl` trace object to generate a WebGl graph.\n",
      "(2) Trying using the image API to return an image instead of a graph URL\n",
      "(3) Use matplotlib\n",
      "(4) See if you can create your visualization with fewer data points\n",
      "\n",
      "If the visualization you're using aggregates points (e.g., box plot, histogram, etc.) you can disregard this warning.\n",
      "\n"
     ]
    },
    {
     "data": {
      "text/html": [
       "<iframe id=\"igraph\" scrolling=\"no\" style=\"border:none;\" seamless=\"seamless\" src=\"https://plot.ly/~carlosvar9103/30.embed\" height=\"525px\" width=\"100%\"></iframe>"
      ],
      "text/plain": [
       "<plotly.tools.PlotlyDisplay object>"
      ]
     },
     "execution_count": 267,
     "metadata": {},
     "output_type": "execute_result"
    }
   ],
   "source": [
    "samplesF=aggregateAgePopulation(wien_pop_f)\n",
    "samplesM=aggregateAgePopulation(wien_pop_m)\n",
    "\n",
    "traceF=go.Box(\n",
    "    #x=samples, \n",
    "    y=samplesF,\n",
    "    name='Female'\n",
    ")\n",
    "\n",
    "traceM=go.Box(\n",
    "    #x=wien_pop_m.age*wien_pop_m.total_pop, \n",
    "    y=samplesM,\n",
    "    name='Male'\n",
    ")\n",
    "\n",
    "layout = go.Layout(\n",
    "    title='Distribution Female vs. Male Population by Age in Wien in 2012',\n",
    "    xaxis=dict(\n",
    "        #title='Age',\n",
    "        #titlefont=dict(\n",
    "            #family='Courier New, monospace',\n",
    "            #size=18,\n",
    "            #color='#7f7f7f'\n",
    "        #)\n",
    "    ),\n",
    "    yaxis=dict(\n",
    "        title='Age',\n",
    "        #titlefont=dict(\n",
    "            #family='Courier New, monospace',\n",
    "            #size=18,\n",
    "            #color='#7f7f7f'\n",
    "        #)\n",
    "    )\n",
    ")\n",
    "\n",
    "dataFvsM=[traceF,traceM]\n",
    "fig = go.Figure(data=dataFvsM, layout=layout)\n",
    "#plot_url=py.plot(fig,filename)\n",
    "py.iplot(fig, filename='boxplots_wien_pop_fvsm')"
   ]
  },
  {
   "cell_type": "markdown",
   "metadata": {},
   "source": [
    "Analysis Age of the Population by Country of Origin in 2012"
   ]
  },
  {
   "cell_type": "code",
   "execution_count": 268,
   "metadata": {},
   "outputs": [],
   "source": [
    "def aggregateAgePopulation2(wien_pop):\n",
    "    samples=[]\n",
    "    for i in range(len(age)):\n",
    "        for s in range(wien_pop.iloc[i]):\n",
    "            samples.append(df_wien.age.iloc[i])\n",
    "    #display (samples)\n",
    "    return samples"
   ]
  },
  {
   "cell_type": "code",
   "execution_count": 269,
   "metadata": {
    "scrolled": true
   },
   "outputs": [
    {
     "data": {
      "text/html": [
       "<iframe id=\"igraph\" scrolling=\"no\" style=\"border:none;\" seamless=\"seamless\" src=\"https://plot.ly/~carlosvar9103/42.embed\" height=\"525px\" width=\"100%\"></iframe>"
      ],
      "text/plain": [
       "<plotly.tools.PlotlyDisplay object>"
      ]
     },
     "execution_count": 269,
     "metadata": {},
     "output_type": "execute_result"
    }
   ],
   "source": [
    "df_wien = df_wien0[df_wien0.year == 2012] #take the year 2012\n",
    "\n",
    "\n",
    "samples_total=aggregateAgePopulation2(df_wien.total_pop)\n",
    "samples_scg=aggregateAgePopulation2(df_wien.pop_scg)\n",
    "samples_tur=aggregateAgePopulation2(df_wien.pop_tur)\n",
    "samples_deu=aggregateAgePopulation2(df_wien.pop_deu)\n",
    "samples_pol=aggregateAgePopulation2(df_wien.pop_pol)\n",
    "samples_rou=aggregateAgePopulation2(df_wien.pop_rou)\n",
    "samples_hun=aggregateAgePopulation2(df_wien.pop_hun)\n",
    "samples_syr=aggregateAgePopulation2(df_wien.pop_syr)\n",
    "samples_rus=aggregateAgePopulation2(df_wien.pop_rus)\n",
    "samples_other=aggregateAgePopulation2(df_wien.pop_other)\n",
    "samples_aut=aggregateAgePopulation2(df_wien.pop_aut)\n",
    "\n",
    "\n",
    "\n",
    "trace_total=go.Box(\n",
    "    y=samples_total,\n",
    "    name='Total'\n",
    ")\n",
    "trace_scg=go.Box(\n",
    "    y=samples_scg,\n",
    "    name='Serbia and Montenegro'\n",
    ")\n",
    "trace_tur=go.Box(\n",
    "    y=samples_tur,\n",
    "    name='Turkey'\n",
    ")\n",
    "trace_deu=go.Box(\n",
    "    y=samples_deu,\n",
    "    name='Germany'\n",
    ")\n",
    "trace_pol=go.Box(\n",
    "    y=samples_pol,\n",
    "    name='Poland'\n",
    ")\n",
    "trace_rou=go.Box(\n",
    "    y=samples_rou,\n",
    "    name='Romania'\n",
    ")\n",
    "trace_hun=go.Box(\n",
    "    y=samples_hun,\n",
    "    name='Hungary'\n",
    ")\n",
    "trace_syr=go.Box(\n",
    "    y=samples_syr,\n",
    "    name='Syria'\n",
    ")\n",
    "trace_rus=go.Box(\n",
    "    y=samples_rus,\n",
    "    name='Russia'\n",
    ")\n",
    "trace_other=go.Box(\n",
    "    y=samples_other,\n",
    "    name='Other'\n",
    ")\n",
    "trace_aut=go.Box(\n",
    "    y=samples_aut,\n",
    "    name='Austria'\n",
    ")\n",
    "\n",
    "layout = go.Layout(\n",
    "    title='Distribution Age of Population by Country of Origin in Wien in 2012',\n",
    "    xaxis=dict(\n",
    "        #title='Age',\n",
    "        #titlefont=dict(\n",
    "            #family='Courier New, monospace',\n",
    "            #size=18,\n",
    "            #color='#7f7f7f'\n",
    "        #)\n",
    "    ),\n",
    "    yaxis=dict(\n",
    "        title='Age',\n",
    "        #titlefont=dict(\n",
    "            #family='Courier New, monospace',\n",
    "            #size=18,\n",
    "            #color='#7f7f7f'\n",
    "        #)\n",
    "    )\n",
    ")\n",
    "\n",
    "dataTotal=[trace_total,trace_scg,trace_tur,trace_deu,trace_pol,trace_rou,trace_hun,trace_syr,trace_rus,trace_other,trace_aut]\n",
    "fig = go.Figure(data=dataTotal, layout=layout)\n",
    "#plot_url=py.plot(fig,filename)\n",
    "py.iplot(fig, filename='boxplots_wien_pop_total')"
   ]
  },
  {
   "cell_type": "code",
   "execution_count": null,
   "metadata": {},
   "outputs": [],
   "source": []
  },
  {
   "cell_type": "code",
   "execution_count": null,
   "metadata": {},
   "outputs": [],
   "source": []
  },
  {
   "cell_type": "markdown",
   "metadata": {},
   "source": [
    "Dataset about the Erasmus student mobility study exchanges in 2012"
   ]
  },
  {
   "cell_type": "code",
   "execution_count": 270,
   "metadata": {},
   "outputs": [
    {
     "data": {
      "text/html": [
       "<div>\n",
       "<style scoped>\n",
       "    .dataframe tbody tr th:only-of-type {\n",
       "        vertical-align: middle;\n",
       "    }\n",
       "\n",
       "    .dataframe tbody tr th {\n",
       "        vertical-align: top;\n",
       "    }\n",
       "\n",
       "    .dataframe thead th {\n",
       "        text-align: right;\n",
       "    }\n",
       "</style>\n",
       "<table border=\"1\" class=\"dataframe\">\n",
       "  <thead>\n",
       "    <tr style=\"text-align: right;\">\n",
       "      <th></th>\n",
       "      <th>HOME_INSTITUTION_CTRY_CDE</th>\n",
       "      <th>STUDENT_AGE_VALUE</th>\n",
       "      <th>STUDENT_GENDER_CDE</th>\n",
       "      <th>STUDENT_NATIONALITY_CDE</th>\n",
       "      <th>HOST_INSTITUTION_COUNTRY_CDE</th>\n",
       "      <th>TOTAL_ECTS_CREDITS_AMT</th>\n",
       "      <th>STUDY_GRANT_AMT</th>\n",
       "    </tr>\n",
       "  </thead>\n",
       "  <tbody>\n",
       "    <tr>\n",
       "      <th>0</th>\n",
       "      <td>ES</td>\n",
       "      <td>21</td>\n",
       "      <td>2</td>\n",
       "      <td>ES</td>\n",
       "      <td>UK</td>\n",
       "      <td>24.0</td>\n",
       "      <td>355.84</td>\n",
       "    </tr>\n",
       "    <tr>\n",
       "      <th>1</th>\n",
       "      <td>ES</td>\n",
       "      <td>22</td>\n",
       "      <td>1</td>\n",
       "      <td>ES</td>\n",
       "      <td>PT</td>\n",
       "      <td>58.0</td>\n",
       "      <td>1386.43</td>\n",
       "    </tr>\n",
       "    <tr>\n",
       "      <th>2</th>\n",
       "      <td>ES</td>\n",
       "      <td>20</td>\n",
       "      <td>2</td>\n",
       "      <td>ES</td>\n",
       "      <td>FR</td>\n",
       "      <td>54.0</td>\n",
       "      <td>1289.7</td>\n",
       "    </tr>\n",
       "    <tr>\n",
       "      <th>3</th>\n",
       "      <td>ES</td>\n",
       "      <td>20</td>\n",
       "      <td>2</td>\n",
       "      <td>ES</td>\n",
       "      <td>FR</td>\n",
       "      <td>57.0</td>\n",
       "      <td>1192.97</td>\n",
       "    </tr>\n",
       "    <tr>\n",
       "      <th>4</th>\n",
       "      <td>ES</td>\n",
       "      <td>22</td>\n",
       "      <td>2</td>\n",
       "      <td>ES</td>\n",
       "      <td>UK</td>\n",
       "      <td>30.0</td>\n",
       "      <td>644.85</td>\n",
       "    </tr>\n",
       "  </tbody>\n",
       "</table>\n",
       "</div>"
      ],
      "text/plain": [
       "  HOME_INSTITUTION_CTRY_CDE  STUDENT_AGE_VALUE  STUDENT_GENDER_CDE  \\\n",
       "0                        ES                 21                   2   \n",
       "1                        ES                 22                   1   \n",
       "2                        ES                 20                   2   \n",
       "3                        ES                 20                   2   \n",
       "4                        ES                 22                   2   \n",
       "\n",
       "  STUDENT_NATIONALITY_CDE HOST_INSTITUTION_COUNTRY_CDE  \\\n",
       "0                      ES                           UK   \n",
       "1                      ES                           PT   \n",
       "2                      ES                           FR   \n",
       "3                      ES                           FR   \n",
       "4                      ES                           UK   \n",
       "\n",
       "   TOTAL_ECTS_CREDITS_AMT STUDY_GRANT_AMT  \n",
       "0                    24.0          355.84  \n",
       "1                    58.0         1386.43  \n",
       "2                    54.0          1289.7  \n",
       "3                    57.0         1192.97  \n",
       "4                    30.0          644.85  "
      ]
     },
     "metadata": {},
     "output_type": "display_data"
    }
   ],
   "source": [
    "#error_bad_lines=False\n",
    "erasmus_raw = pd.read_csv(\"DATA_DS_EXE1/SM_2012_13_20141103_01.csv\",sep=';', encoding='ANSI', engine='python')#, quoting=csv.QUOTE_NONE, error_bad_lines=False)\n",
    "#erasmus_raw.drop(erasmus_raw.index[:1], inplace=True)\n",
    "colms=[0,1,2,7,8,9,10,11,13,14,15,16,17,18,19,20,21,22,23,24,26,27,28,29,31,32,33] # colums to drop\n",
    "erasmus_raw.drop(erasmus_raw.columns[colms],axis=1,inplace=True)\n",
    "erasmus_raw ['STUDENT_GENDER_CDE']=erasmus_raw ['STUDENT_GENDER_CDE'].map({'F':2,'M':1})\n",
    "display(erasmus_raw.head(5))"
   ]
  },
  {
   "cell_type": "markdown",
   "metadata": {},
   "source": [
    "Analyse the dataset with the students gointo to Austria"
   ]
  },
  {
   "cell_type": "code",
   "execution_count": 271,
   "metadata": {},
   "outputs": [
    {
     "name": "stdout",
     "output_type": "stream",
     "text": [
      "['ES' 'DE' 'FR' 'IT' 'PL' 'TR' 'UK' 'CZ' 'NL' 'PT' 'RO' 'FI' 'HU' 'BENL'\n",
      " 'GR' 'LT' 'SE' 'DK' 'SK' 'BEFR' 'CH' 'LV' 'NO' 'EE' 'LU' 'HR' 'SI' 'IE'\n",
      " 'BG' 'IS' 'CY' 'MT'] 32\n"
     ]
    }
   ],
   "source": [
    "#erasmus_raw ['STUDENT_AGE_VALUE'].describe()\n",
    "erasmus = erasmus_raw.copy()\n",
    "\n",
    "data_erasmus= { 'home_uni':erasmus['HOME_INSTITUTION_CTRY_CDE'],\n",
    "                'age':erasmus['STUDENT_AGE_VALUE'],\n",
    "                'gender':erasmus['STUDENT_GENDER_CDE'],\n",
    "                'nationality':erasmus['STUDENT_NATIONALITY_CDE'],\n",
    "                'host_uni':erasmus['HOST_INSTITUTION_COUNTRY_CDE'],\n",
    "                'ects':erasmus['TOTAL_ECTS_CREDITS_AMT'],\n",
    "                'grant':erasmus['STUDY_GRANT_AMT']                \n",
    "}\n",
    "\n",
    "erasmus=pd.DataFrame(data_erasmus)\n",
    "\n",
    "erasmus_AT = erasmus[erasmus.host_uni =='AT']\n",
    "\n",
    "\n",
    "distintos = erasmus_AT.home_uni.unique()\n",
    "numdistintos = len(distintos)\n",
    "print (distintos, numdistintos)"
   ]
  },
  {
   "cell_type": "code",
   "execution_count": null,
   "metadata": {},
   "outputs": [],
   "source": []
  },
  {
   "cell_type": "code",
   "execution_count": 272,
   "metadata": {},
   "outputs": [],
   "source": [
    "def tracesErasmusFeatureCountry(distintos, feature):\n",
    "    \n",
    "    data_trace=[]\n",
    "    \n",
    "    for i in distintos:\n",
    "        erasmusCountry=erasmus[erasmus.home_uni == i]\n",
    "        #data_feature.append(erasmusCountry.loc[:,''+feature])\n",
    "        trace=go.Box( \n",
    "            y=erasmusCountry.loc[:,''+feature],\n",
    "            name=i\n",
    "        )\n",
    "        data_trace.append(trace)  \n",
    "    return data_trace"
   ]
  },
  {
   "cell_type": "code",
   "execution_count": 273,
   "metadata": {},
   "outputs": [
    {
     "data": {
      "text/html": [
       "<iframe id=\"igraph\" scrolling=\"no\" style=\"border:none;\" seamless=\"seamless\" src=\"https://plot.ly/~carlosvar9103/36.embed\" height=\"525px\" width=\"100%\"></iframe>"
      ],
      "text/plain": [
       "<plotly.tools.PlotlyDisplay object>"
      ]
     },
     "execution_count": 273,
     "metadata": {},
     "output_type": "execute_result"
    }
   ],
   "source": [
    "tracesErasmusGrants=tracesErasmusFeatureCountry(distintos, 'grant')\n",
    "\n",
    "#display(erasmusGrants)\n",
    "\n",
    "layout = go.Layout(\n",
    "    title='Distribution Home Countries Erasmus Students to Austria by Grant in 2012',\n",
    "    xaxis=dict(\n",
    "        #title='Age',\n",
    "        #titlefont=dict(\n",
    "            #family='Courier New, monospace',\n",
    "            #size=18,\n",
    "            #color='#7f7f7f'\n",
    "        #)\n",
    "    ),\n",
    "    yaxis=dict(\n",
    "        title='Grant',\n",
    "        #titlefont=dict(\n",
    "            #family='Courier New, monospace',\n",
    "            #size=18,\n",
    "            #color='#7f7f7f'\n",
    "        #)\n",
    "    )\n",
    ")\n",
    "\n",
    "fig = go.Figure(data=tracesErasmusGrants, layout=layout)\n",
    "#plot_url=py.plot(fig,filename)\n",
    "py.iplot(fig, filename='boxplots_erasmus_grants')\n",
    "\n",
    "\n"
   ]
  },
  {
   "cell_type": "code",
   "execution_count": 274,
   "metadata": {},
   "outputs": [
    {
     "data": {
      "text/html": [
       "<iframe id=\"igraph\" scrolling=\"no\" style=\"border:none;\" seamless=\"seamless\" src=\"https://plot.ly/~carlosvar9103/38.embed\" height=\"525px\" width=\"100%\"></iframe>"
      ],
      "text/plain": [
       "<plotly.tools.PlotlyDisplay object>"
      ]
     },
     "execution_count": 274,
     "metadata": {},
     "output_type": "execute_result"
    }
   ],
   "source": [
    "tracesErasmusGrants=tracesErasmusFeatureCountry(distintos, 'age')\n",
    "\n",
    "#display(erasmusGrants)\n",
    "\n",
    "layout = go.Layout(\n",
    "    title='Distribution Home Countries Erasmus Students to Austria by Age in 2012',\n",
    "    xaxis=dict(\n",
    "        #title='Age',\n",
    "        #titlefont=dict(\n",
    "            #family='Courier New, monospace',\n",
    "            #size=18,\n",
    "            #color='#7f7f7f'\n",
    "        #)\n",
    "    ),\n",
    "    yaxis=dict(\n",
    "        title='Age',\n",
    "        #titlefont=dict(\n",
    "            #family='Courier New, monospace',\n",
    "            #size=18,\n",
    "            #color='#7f7f7f'\n",
    "        #)\n",
    "    )\n",
    ")\n",
    "\n",
    "fig = go.Figure(data=tracesErasmusGrants, layout=layout)\n",
    "#plot_url=py.plot(fig,filename)\n",
    "py.iplot(fig, filename='boxplots_erasmus_ages')"
   ]
  },
  {
   "cell_type": "code",
   "execution_count": 275,
   "metadata": {},
   "outputs": [
    {
     "data": {
      "text/html": [
       "<iframe id=\"igraph\" scrolling=\"no\" style=\"border:none;\" seamless=\"seamless\" src=\"https://plot.ly/~carlosvar9103/40.embed\" height=\"525px\" width=\"100%\"></iframe>"
      ],
      "text/plain": [
       "<plotly.tools.PlotlyDisplay object>"
      ]
     },
     "execution_count": 275,
     "metadata": {},
     "output_type": "execute_result"
    }
   ],
   "source": [
    "tracesErasmusGrants=tracesErasmusFeatureCountry(distintos, 'ects')\n",
    "\n",
    "#display(erasmusGrants)\n",
    "\n",
    "layout = go.Layout(\n",
    "    title='Distribution Home Countries Erasmus Students to Austria by ECTS in 2012',\n",
    "    xaxis=dict(\n",
    "        #title='Age',\n",
    "        #titlefont=dict(\n",
    "            #family='Courier New, monospace',\n",
    "            #size=18,\n",
    "            #color='#7f7f7f'\n",
    "        #)\n",
    "    ),\n",
    "    yaxis=dict(\n",
    "        title='ECTS',\n",
    "        #titlefont=dict(\n",
    "            #family='Courier New, monospace',\n",
    "            #size=18,\n",
    "            #color='#7f7f7f'\n",
    "        #)\n",
    "    )\n",
    ")\n",
    "\n",
    "fig = go.Figure(data=tracesErasmusGrants, layout=layout)\n",
    "#plot_url=py.plot(fig,filename)\n",
    "py.iplot(fig, filename='boxplots_erasmus_ects')"
   ]
  },
  {
   "cell_type": "markdown",
   "metadata": {},
   "source": [
    "Box plots of the Age of Males and Females "
   ]
  },
  {
   "cell_type": "code",
   "execution_count": 276,
   "metadata": {},
   "outputs": [
    {
     "data": {
      "text/html": [
       "<iframe id=\"igraph\" scrolling=\"no\" style=\"border:none;\" seamless=\"seamless\" src=\"https://plot.ly/~carlosvar9103/44.embed\" height=\"525px\" width=\"100%\"></iframe>"
      ],
      "text/plain": [
       "<plotly.tools.PlotlyDisplay object>"
      ]
     },
     "execution_count": 276,
     "metadata": {},
     "output_type": "execute_result"
    }
   ],
   "source": [
    "traceF=go.Box(\n",
    "    #x=samples, \n",
    "    y=erasmus.age[erasmus.gender == 2],\n",
    "    name='Female'\n",
    ")\n",
    "\n",
    "traceM=go.Box(\n",
    "    #x=wien_pop_m.age*wien_pop_m.total_pop, \n",
    "    y=erasmus.age[erasmus.gender == 1],\n",
    "    name='Male'\n",
    ")\n",
    "\n",
    "layout = go.Layout(\n",
    "    title='Distribution Female vs. Male by Age of Erasmus Students in Austria in 2012',\n",
    "    xaxis=dict(\n",
    "        #title='Age',\n",
    "        #titlefont=dict(\n",
    "            #family='Courier New, monospace',\n",
    "            #size=18,\n",
    "            #color='#7f7f7f'\n",
    "        #)\n",
    "    ),\n",
    "    yaxis=dict(\n",
    "        title='Age',\n",
    "        #titlefont=dict(\n",
    "            #family='Courier New, monospace',\n",
    "            #size=18,\n",
    "            #color='#7f7f7f'\n",
    "        #)\n",
    "    )\n",
    ")\n",
    "\n",
    "dataFvsM=[traceF,traceM]\n",
    "fig = go.Figure(data=dataFvsM, layout=layout)\n",
    "#plot_url=py.plot(fig,filename)\n",
    "py.iplot(fig, filename='boxplots_erasmus_fvsm')"
   ]
  },
  {
   "cell_type": "code",
   "execution_count": null,
   "metadata": {},
   "outputs": [],
   "source": []
  }
 ],
 "metadata": {
  "kernelspec": {
   "display_name": "Python 3",
   "language": "python",
   "name": "python3"
  },
  "language_info": {
   "codemirror_mode": {
    "name": "ipython",
    "version": 3
   },
   "file_extension": ".py",
   "mimetype": "text/x-python",
   "name": "python",
   "nbconvert_exporter": "python",
   "pygments_lexer": "ipython3",
   "version": "3.7.0"
  }
 },
 "nbformat": 4,
 "nbformat_minor": 2
}
